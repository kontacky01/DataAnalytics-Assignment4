{
  "nbformat": 4,
  "nbformat_minor": 0,
  "metadata": {
    "colab": {
      "provenance": []
    },
    "kernelspec": {
      "name": "python3",
      "display_name": "Python 3"
    },
    "language_info": {
      "name": "python"
    }
  },
  "cells": [
    {
      "cell_type": "code",
      "execution_count": null,
      "metadata": {
        "id": "kK8n6Xk97W5y"
      },
      "outputs": [],
      "source": [
        "import time\n",
        "import pandas as pd\n",
        "import numpy as np\n",
        "import matplotlib\n",
        "import matplotlib.pyplot as plt\n",
        "import sklearn\n",
        "from sklearn.linear_model import LinearRegression\n",
        "from sklearn.ensemble import RandomForestRegressor\n",
        "from sklearn.metrics import mean_squared_error\n",
        "from sklearn.metrics import r2_score"
      ]
    },
    {
      "cell_type": "code",
      "source": [
        "#***************************************************Q1***************************************************"
      ],
      "metadata": {
        "id": "yPXq5hdE9hei"
      },
      "execution_count": null,
      "outputs": []
    },
    {
      "cell_type": "code",
      "source": [
        "oil = pd.read_csv('oil.csv')\n",
        "print(oil) #before the update the non-null\n",
        "\n",
        "oil['dcoilwtico'] = oil['dcoilwtico'].fillna(oil['dcoilwtico'].mean())\n",
        "\n",
        "print('\\n\\n')\n",
        "print(oil) #after the update the non-null"
      ],
      "metadata": {
        "colab": {
          "base_uri": "https://localhost:8080/"
        },
        "id": "A8aFhzZ37kT5",
        "outputId": "ecfb21b1-f7a2-4c8e-8945-19f9b660b2c6"
      },
      "execution_count": null,
      "outputs": [
        {
          "output_type": "stream",
          "name": "stdout",
          "text": [
            "            date  dcoilwtico\n",
            "0     2013-01-01         NaN\n",
            "1     2013-01-02       93.14\n",
            "2     2013-01-03       92.97\n",
            "3     2013-01-04       93.12\n",
            "4     2013-01-07       93.20\n",
            "...          ...         ...\n",
            "1213  2017-08-25       47.65\n",
            "1214  2017-08-28       46.40\n",
            "1215  2017-08-29       46.46\n",
            "1216  2017-08-30       45.96\n",
            "1217  2017-08-31       47.26\n",
            "\n",
            "[1218 rows x 2 columns]\n",
            "\n",
            "\n",
            "\n",
            "            date  dcoilwtico\n",
            "0     2013-01-01   67.714366\n",
            "1     2013-01-02   93.140000\n",
            "2     2013-01-03   92.970000\n",
            "3     2013-01-04   93.120000\n",
            "4     2013-01-07   93.200000\n",
            "...          ...         ...\n",
            "1213  2017-08-25   47.650000\n",
            "1214  2017-08-28   46.400000\n",
            "1215  2017-08-29   46.460000\n",
            "1216  2017-08-30   45.960000\n",
            "1217  2017-08-31   47.260000\n",
            "\n",
            "[1218 rows x 2 columns]\n"
          ]
        }
      ]
    },
    {
      "cell_type": "code",
      "source": [
        "#***************************************************Q2***************************************************"
      ],
      "metadata": {
        "id": "nvKBoGBg9e_B"
      },
      "execution_count": null,
      "outputs": []
    },
    {
      "cell_type": "code",
      "source": [
        "train = pd.read_csv('train.csv')\n",
        "augmented_train = pd.merge(train, oil, on = 'date')\n",
        "augmented_train['dcoilwtico'] = augmented_train['dcoilwtico'].fillna(oil['dcoilwtico'].mean())\n",
        "print('***********************************************augmented_train*******************************************')\n",
        "print(augmented_train)\n",
        "\n",
        "print('\\n')\n",
        "\n",
        "test = pd.read_csv('test.csv')\n",
        "augmented_test= pd.merge(test, oil, on = 'date')\n",
        "augmented_test['dcoilwtico'] = augmented_test['dcoilwtico'].fillna(oil['dcoilwtico'].mean())\n",
        "print('***********************************************augmented_test*******************************************')\n",
        "print(augmented_test)"
      ],
      "metadata": {
        "id": "STmapQI09zin",
        "colab": {
          "base_uri": "https://localhost:8080/"
        },
        "outputId": "233c266b-08f7-4877-d45d-0a6d66842eaa"
      },
      "execution_count": null,
      "outputs": [
        {
          "output_type": "stream",
          "name": "stdout",
          "text": [
            "***********************************************augmented_train*******************************************\n",
            "              id        date  store_nbr                      family     sales  \\\n",
            "0              0  2013-01-01          1                  AUTOMOTIVE     0.000   \n",
            "1              1  2013-01-01          1                   BABY CARE     0.000   \n",
            "2              2  2013-01-01          1                      BEAUTY     0.000   \n",
            "3              3  2013-01-01          1                   BEVERAGES     0.000   \n",
            "4              4  2013-01-01          1                       BOOKS     0.000   \n",
            "...          ...         ...        ...                         ...       ...   \n",
            "2143741  3000883  2017-08-15          9                     POULTRY   438.133   \n",
            "2143742  3000884  2017-08-15          9              PREPARED FOODS   154.553   \n",
            "2143743  3000885  2017-08-15          9                     PRODUCE  2419.729   \n",
            "2143744  3000886  2017-08-15          9  SCHOOL AND OFFICE SUPPLIES   121.000   \n",
            "2143745  3000887  2017-08-15          9                     SEAFOOD    16.000   \n",
            "\n",
            "         onpromotion  dcoilwtico  \n",
            "0                0.0   67.714366  \n",
            "1                0.0   67.714366  \n",
            "2                0.0   67.714366  \n",
            "3                0.0   67.714366  \n",
            "4                0.0   67.714366  \n",
            "...              ...         ...  \n",
            "2143741         15.0   47.570000  \n",
            "2143742          8.0   47.570000  \n",
            "2143743        148.0   47.570000  \n",
            "2143744         10.0   47.570000  \n",
            "2143745          2.0   47.570000  \n",
            "\n",
            "[2143746 rows x 7 columns]\n",
            "\n",
            "\n",
            "***********************************************augmented_test*******************************************\n",
            "            id        date  store_nbr                      family  \\\n",
            "0      3000888  2017-08-16          1                  AUTOMOTIVE   \n",
            "1      3000889  2017-08-16          1                   BABY CARE   \n",
            "2      3000890  2017-08-16          1                      BEAUTY   \n",
            "3      3000891  2017-08-16          1                   BEVERAGES   \n",
            "4      3000892  2017-08-16          1                       BOOKS   \n",
            "...        ...         ...        ...                         ...   \n",
            "21379  3029395  2017-08-31          9                     POULTRY   \n",
            "21380  3029396  2017-08-31          9              PREPARED FOODS   \n",
            "21381  3029397  2017-08-31          9                     PRODUCE   \n",
            "21382  3029398  2017-08-31          9  SCHOOL AND OFFICE SUPPLIES   \n",
            "21383  3029399  2017-08-31          9                     SEAFOOD   \n",
            "\n",
            "       onpromotion  dcoilwtico  \n",
            "0             20.0       46.80  \n",
            "1              1.0       46.80  \n",
            "2              8.0       46.80  \n",
            "3            560.0       46.80  \n",
            "4              1.0       46.80  \n",
            "...            ...         ...  \n",
            "21379         54.0       47.26  \n",
            "21380         10.0       47.26  \n",
            "21381        302.0       47.26  \n",
            "21382         15.0       47.26  \n",
            "21383          8.0       47.26  \n",
            "\n",
            "[21384 rows x 6 columns]\n"
          ]
        }
      ]
    },
    {
      "cell_type": "code",
      "source": [
        "#***************************************************Q3***************************************************"
      ],
      "metadata": {
        "id": "-gNXXu959scp"
      },
      "execution_count": null,
      "outputs": []
    },
    {
      "cell_type": "code",
      "source": [
        "#get a copy of table train with just the numerical columns hence dropping date, and family columns\n",
        "#to see correlations hence determine strongest predictor\n",
        "train_numerical = train.drop(['date', 'family'], axis=1)\n",
        "\n",
        "corr_matrix = train_numerical.corr()\n",
        "corr_matrix['sales'].sort_values(ascending=False)"
      ],
      "metadata": {
        "colab": {
          "base_uri": "https://localhost:8080/"
        },
        "id": "ZjRK7--sst8H",
        "outputId": "e350d835-d51c-4fb5-911c-ceb2b1ea3a6b"
      },
      "execution_count": null,
      "outputs": [
        {
          "output_type": "execute_result",
          "data": {
            "text/plain": [
              "sales          1.000000\n",
              "onpromotion    0.755648\n",
              "id             0.085784\n",
              "store_nbr      0.041196\n",
              "Name: sales, dtype: float64"
            ]
          },
          "metadata": {},
          "execution_count": 48
        }
      ]
    },
    {
      "cell_type": "code",
      "source": [
        "#----------------------------------------using linear regression first----------------------------------------\n",
        "#strongest predictor is 'onpromotion' therefore will be used to predict sales\n",
        "X_train = train['onpromotion'].values.reshape(-1, 1)\n",
        "y_train = train['sales']\n",
        "\n",
        "model = LinearRegression()\n",
        "model.fit(X_train, y_train)\n",
        "\n",
        "# Use the trained model to make predictions on test feature\n",
        "X_test = test['onpromotion'].values.reshape(-1, 1)\n",
        "predicted_sales1 = model.predict(X_test)\n",
        "\n",
        "#saving results\n",
        "predicted_sales_lr = pd.DataFrame({'Predicted_Sales': predicted_sales1})\n",
        "test_with_predicted_sales1 = pd.concat([test, predicted_sales_lr], axis=1)\n",
        "test_with_predicted_sales1.to_csv('test_with_predicted_sales_lr.csv', index=False)\n",
        "print(test_with_predicted_sales1.head())"
      ],
      "metadata": {
        "colab": {
          "base_uri": "https://localhost:8080/"
        },
        "id": "yHNdh53H8cHX",
        "outputId": "52d614ba-1a05-4d26-f837-63fdc81925f1"
      },
      "execution_count": null,
      "outputs": [
        {
          "output_type": "stream",
          "name": "stdout",
          "text": [
            "        id        date  store_nbr      family  onpromotion  Predicted_Sales\n",
            "0  3000888  2017-08-16          1  AUTOMOTIVE         20.0       235.541344\n",
            "1  3000889  2017-08-16          1   BABY CARE          1.0        76.500624\n",
            "2  3000890  2017-08-16          1      BEAUTY          8.0       135.094573\n",
            "3  3000891  2017-08-16          1   BEVERAGES        560.0      4755.646021\n",
            "4  3000892  2017-08-16          1       BOOKS          1.0        76.500624\n"
          ]
        }
      ]
    },
    {
      "cell_type": "code",
      "source": [
        "#----------------------------------------using random forest regressor----------------------------------------\n",
        "#strongest predictor is 'onpromotion' therefore will be used to predict sales\n",
        "X_train = train['onpromotion'].values.reshape(-1, 1)\n",
        "y_train = train['sales']\n",
        "\n",
        "model = RandomForestRegressor(n_estimators=100, random_state=42)\n",
        "model.fit(X_train, y_train)\n",
        "\n",
        "# Use the trained model to make predictions on test feature\n",
        "X_test = test['onpromotion'].values.reshape(-1, 1)\n",
        "predicted_sales2 = model.predict(X_test)\n",
        "\n",
        "#saving results\n",
        "predicted_sales_rfr = pd.DataFrame({'Predicted_Sales': predicted_sales2})\n",
        "test_with_predicted_sales2 = pd.concat([test, predicted_sales_rfr], axis=1)\n",
        "test_with_predicted_sales2.to_csv('test_with_predicted_sales_rfr.csv', index=False)\n",
        "print(test_with_predicted_sales2.head())"
      ],
      "metadata": {
        "colab": {
          "base_uri": "https://localhost:8080/"
        },
        "id": "YO6ggegt9f3X",
        "outputId": "7db17c7e-5dc0-4a81-ea79-540819adb175"
      },
      "execution_count": null,
      "outputs": [
        {
          "output_type": "stream",
          "name": "stdout",
          "text": [
            "        id        date  store_nbr      family  onpromotion  Predicted_Sales\n",
            "0  3000888  2017-08-16          1  AUTOMOTIVE         20.0       195.271810\n",
            "1  3000889  2017-08-16          1   BABY CARE          1.0         2.362817\n",
            "2  3000890  2017-08-16          1      BEAUTY          8.0        35.224084\n",
            "3  3000891  2017-08-16          1   BEVERAGES        560.0      3813.764386\n",
            "4  3000892  2017-08-16          1       BOOKS          1.0         2.362817\n"
          ]
        }
      ]
    },
    {
      "cell_type": "code",
      "source": [
        "#***************************************************Q4***************************************************"
      ],
      "metadata": {
        "id": "TvIAZq3B9soM"
      },
      "execution_count": null,
      "outputs": []
    },
    {
      "cell_type": "code",
      "source": [
        "#comparison using Root Mean Square Error (RMSE)\n",
        "submission = pd.read_csv('submission.csv')\n",
        "test_with_predicted_sales_lr = pd.read_csv('test_with_predicted_sales_lr.csv')\n",
        "test_with_predicted_sales_rfr = pd.read_csv('test_with_predicted_sales_rfr.csv')\n",
        "\n",
        "df = pd.DataFrame({'Squared_Residual_lr','Squared_Residual_rfr'})\n",
        "# Calculate residuals for both models\n",
        "df['Squared_Residual_lr'] = (submission['sales'] - test_with_predicted_sales_lr['Predicted_Sales'])**2\n",
        "df['Squared_Residual_rfr'] = (submission['sales'] - test_with_predicted_sales_rfr['Predicted_Sales'])**2\n",
        "\n",
        "# Calculate mean squared error (MSE) for both models\n",
        "MSE_lr = df['Squared_Residual_lr'].mean()\n",
        "MSE_rfr = df['Squared_Residual_rfr'].mean()\n",
        "\n",
        "# Calculate RMSE for both models (by taking square root of MSE)\n",
        "RMSE_linear_regression = np.sqrt(MSE_lr)\n",
        "RMSE_random_forest_regressor = np.sqrt(MSE_rfr)\n",
        "\n",
        "print('\\nRMSE when linear regressions was used: ', RMSE_linear_regression)\n",
        "print('\\nRMSE when random forest regressor was used: ', RMSE_random_forest_regressor)"
      ],
      "metadata": {
        "colab": {
          "base_uri": "https://localhost:8080/"
        },
        "id": "lgo-VSgBeGxC",
        "outputId": "08fb3978-1871-4451-c2f3-f2d54bf9ceb5"
      },
      "execution_count": null,
      "outputs": [
        {
          "output_type": "stream",
          "name": "stdout",
          "text": [
            "\n",
            "RMSE when linear regressions was used:  172.2214919266772\n",
            "\n",
            "RMSE when random forest regressor was used:  135.04104001573702\n"
          ]
        }
      ]
    },
    {
      "cell_type": "code",
      "source": [
        "#comparison using Mean absolute deviation\n",
        "df = pd.DataFrame({'Residual_lr','Abs_Residual_rfr'})\n",
        "# Calculate residuals for both models\n",
        "df['Residual_lr'] = submission['sales'] - test_with_predicted_sales_lr['Predicted_Sales']\n",
        "df['Residual_rfr'] = submission['sales'] - test_with_predicted_sales_rfr['Predicted_Sales']\n",
        "\n",
        "# Calculate absolute deviations\n",
        "df['Abs_Residual_lr'] = abs(df['Residual_lr'])\n",
        "df['Abs_Residual_rfr'] = abs(df['Residual_rfr'])\n",
        "\n",
        "# Calculate MAD for both models\n",
        "MAD_linear_regression = df['Abs_Residual_lr'].mean()\n",
        "MAD_random_forest_regressor = df['Abs_Residual_rfr'].mean()\n",
        "\n",
        "print('\\nMAD when linear regressions was used: ', MAD_linear_regression)\n",
        "print('\\nMAD when random forest regressor was used: ', MAD_random_forest_regressor)"
      ],
      "metadata": {
        "colab": {
          "base_uri": "https://localhost:8080/"
        },
        "id": "CjkXnHGJCCic",
        "outputId": "a1da25f6-2b48-45f6-a4a1-f6b8d65b8d06"
      },
      "execution_count": null,
      "outputs": [
        {
          "output_type": "stream",
          "name": "stdout",
          "text": [
            "\n",
            "MAD when linear regressions was used:  153.86620519481278\n",
            "\n",
            "MAD when random forest regressor was used:  96.66253519449704\n"
          ]
        }
      ]
    },
    {
      "cell_type": "code",
      "source": [
        "#comparison using R-squared (R²) or Coefficient of Determination\n",
        "\n",
        "# Calculate r2 score for both models\n",
        "r2_linear_regression = r2_score(submission['sales'], test_with_predicted_sales_lr['Predicted_Sales'])\n",
        "r2_random_forest_regressor = r2_score(submission['sales'], test_with_predicted_sales_rfr['Predicted_Sales'])\n",
        "\n",
        "print('\\nf1 score when linear regressions was used: ', r2_linear_regression)\n",
        "print('\\nf1 score when random forest regressor was used: ', r2_random_forest_regressor)"
      ],
      "metadata": {
        "colab": {
          "base_uri": "https://localhost:8080/"
        },
        "id": "89sHxtOfCHYd",
        "outputId": "d685c090-3c3d-4cbe-e0d6-3771a0766447"
      },
      "execution_count": null,
      "outputs": [
        {
          "output_type": "stream",
          "name": "stdout",
          "text": [
            "\n",
            "f1 score when linear regressions was used:  -0.37017424412687694\n",
            "\n",
            "f1 score when random forest regressor was used:  -5.704900310803029\n"
          ]
        }
      ]
    },
    {
      "cell_type": "markdown",
      "source": [
        "ANALYSIS: all the different comparison methods show that random forest regressor as a model performs better than linear regression at predicting 'sales' by just knowing the 'onpromotion' which was the strongest predictor from all the other attributes."
      ],
      "metadata": {
        "id": "MFjX03plSDuk"
      }
    }
  ]
}